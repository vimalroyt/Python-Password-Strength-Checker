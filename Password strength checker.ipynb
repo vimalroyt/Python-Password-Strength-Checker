{
 "cells": [
  {
   "cell_type": "markdown",
   "id": "bcf7fccf-ca6f-417f-9805-1af923b289b1",
   "metadata": {},
   "source": [
    "## **Password strenght checker program**"
   ]
  },
  {
   "cell_type": "code",
   "execution_count": 39,
   "id": "de126442-4ca6-488b-ab0e-90744e101246",
   "metadata": {},
   "outputs": [],
   "source": [
    "def is_password_strong(password):\n",
    "    if len(password)<8:\n",
    "        return False\n",
    "    if not any (i.isdigit() for i in password):\n",
    "        return False\n",
    "    if not any (i.isupper() for i in password):\n",
    "        return False\n",
    "    if not any (i.islower() for i in password):\n",
    "        return False \n",
    "    if not any (\"~!@#$%^&*()_\" for i in password):\n",
    "        return False\n",
    "    return True"
   ]
  },
  {
   "cell_type": "code",
   "execution_count": 35,
   "id": "64a2be7d-65e4-417b-a178-bf6b73728793",
   "metadata": {},
   "outputs": [
    {
     "data": {
      "text/plain": [
       "False"
      ]
     },
     "execution_count": 35,
     "metadata": {},
     "output_type": "execute_result"
    }
   ],
   "source": [
    "is_password_strong(\"Vi@166\")"
   ]
  },
  {
   "cell_type": "code",
   "execution_count": 38,
   "id": "08cb43cb-b652-4aa8-be1b-c9bdaa8522a6",
   "metadata": {},
   "outputs": [
    {
     "data": {
      "text/plain": [
       "True"
      ]
     },
     "execution_count": 38,
     "metadata": {},
     "output_type": "execute_result"
    }
   ],
   "source": [
    "is_password_strong(\"Royvimalt111_199\")"
   ]
  },
  {
   "cell_type": "code",
   "execution_count": null,
   "id": "c1c3f8f1-f4f6-45bf-9940-dca9855070c0",
   "metadata": {},
   "outputs": [],
   "source": []
  }
 ],
 "metadata": {
  "kernelspec": {
   "display_name": "Python 3 (ipykernel)",
   "language": "python",
   "name": "python3"
  },
  "language_info": {
   "codemirror_mode": {
    "name": "ipython",
    "version": 3
   },
   "file_extension": ".py",
   "mimetype": "text/x-python",
   "name": "python",
   "nbconvert_exporter": "python",
   "pygments_lexer": "ipython3",
   "version": "3.12.7"
  }
 },
 "nbformat": 4,
 "nbformat_minor": 5
}
