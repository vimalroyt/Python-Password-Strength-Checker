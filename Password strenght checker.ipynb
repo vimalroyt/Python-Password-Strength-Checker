{
 "cells": [
  {
   "cell_type": "markdown",
   "id": "c40e9601-6852-4a6b-961e-1a34e3335433",
   "metadata": {},
   "source": [
    "## Python Password Strength Checker Program"
   ]
  },
  {
   "cell_type": "markdown",
   "id": "1abd273b-103e-486e-9b06-14f7cc3a605e",
   "metadata": {},
   "source": [
    "The function is_password_strong(password) evaluates whether a given password meets the following requirements:\n",
    "- At least 8 characters long\n",
    "- Contains at least one digit (0–9)\n",
    "- Contains at least one uppercase letter (A–Z)\n",
    "- Contains at least one lowercase letter (a–z)\n",
    "- Contains at least one special character from: ~!@#$%^&*()_"
   ]
  },
  {
   "cell_type": "code",
   "execution_count": null,
   "id": "9b660cad-18d6-4bf8-8364-920f9c63162f",
   "metadata": {},
   "outputs": [],
   "source": []
  },
  {
   "cell_type": "code",
   "execution_count": 31,
   "id": "de126442-4ca6-488b-ab0e-90744e101246",
   "metadata": {},
   "outputs": [],
   "source": [
    "def is_password_strong(password):\n",
    "    if len(password)<8:\n",
    "        return False\n",
    "    if not any (i.isdigit() for i in password):\n",
    "        return False\n",
    "    if not any (i.isupper() for i in password):\n",
    "        return False\n",
    "    if not any (i.islower() for i in password):\n",
    "        return False \n",
    "    if not any (\"~!@#$%^&*()_\" for i in password):\n",
    "        return False\n",
    "    return True"
   ]
  },
  {
   "cell_type": "code",
   "execution_count": 35,
   "id": "64a2be7d-65e4-417b-a178-bf6b73728793",
   "metadata": {},
   "outputs": [
    {
     "data": {
      "text/plain": [
       "False"
      ]
     },
     "execution_count": 35,
     "metadata": {},
     "output_type": "execute_result"
    }
   ],
   "source": [
    "is_password_strong(\"Vi@166\")"
   ]
  },
  {
   "cell_type": "code",
   "execution_count": 36,
   "id": "08cb43cb-b652-4aa8-be1b-c9bdaa8522a6",
   "metadata": {},
   "outputs": [
    {
     "data": {
      "text/plain": [
       "True"
      ]
     },
     "execution_count": 36,
     "metadata": {},
     "output_type": "execute_result"
    }
   ],
   "source": [
    "is_password_strong(\"Royvimalt111@gmail\")"
   ]
  },
  {
   "cell_type": "code",
   "execution_count": null,
   "id": "c1c3f8f1-f4f6-45bf-9940-dca9855070c0",
   "metadata": {},
   "outputs": [],
   "source": []
  }
 ],
 "metadata": {
  "kernelspec": {
   "display_name": "Python 3 (ipykernel)",
   "language": "python",
   "name": "python3"
  },
  "language_info": {
   "codemirror_mode": {
    "name": "ipython",
    "version": 3
   },
   "file_extension": ".py",
   "mimetype": "text/x-python",
   "name": "python",
   "nbconvert_exporter": "python",
   "pygments_lexer": "ipython3",
   "version": "3.12.7"
  }
 },
 "nbformat": 4,
 "nbformat_minor": 5
}
